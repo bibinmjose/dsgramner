{
 "cells": [
  {
   "cell_type": "markdown",
   "metadata": {},
   "source": [
    "## Questions\n",
    "\n",
    "1. What influences students performance the most?\n",
    "2. How do boys and girls perform across states?\n",
    "3. Do students from South Indian states really excel at Math and Science?"
   ]
  },
  {
   "cell_type": "markdown",
   "metadata": {},
   "source": [
    "## Data Exploration"
   ]
  },
  {
   "cell_type": "code",
   "execution_count": null,
   "metadata": {
    "collapsed": true
   },
   "outputs": [],
   "source": [
    "# loading dataset\n",
    "import pandas as pd\n",
    "import numpy as np\n",
    "import matplotlib.pyplot as plt\n",
    "%matplotlib inline\n",
    "plt.style.use('ggplot')\n",
    "\n",
    "# suppress all warnings\n",
    "import warnings\n",
    "warnings.filterwarnings('ignore')\n",
    "\n",
    "\n",
    "marks = pd.read_csv('gramener-usecase-nas/nas-pupil-marks.csv')\n",
    "labels = pd.read_csv('gramener-usecase-nas/nas-labels.csv')"
   ]
  },
  {
   "cell_type": "code",
   "execution_count": null,
   "metadata": {
    "scrolled": true
   },
   "outputs": [],
   "source": [
    "marks.head(3)"
   ]
  },
  {
   "cell_type": "code",
   "execution_count": null,
   "metadata": {},
   "outputs": [],
   "source": [
    "# Column names of dataset\n",
    "marks.columns"
   ]
  },
  {
   "cell_type": "code",
   "execution_count": null,
   "metadata": {},
   "outputs": [],
   "source": [
    "# The shape of data\n",
    "marks.shape"
   ]
  },
  {
   "cell_type": "code",
   "execution_count": null,
   "metadata": {
    "scrolled": true
   },
   "outputs": [],
   "source": [
    "# Splitting the columns into independent categories and performance\n",
    "category = ['State', 'District', 'Gender', 'Age', 'Category',\n",
    "       'Same language', 'Siblings', 'Handicap', 'Father edu', 'Mother edu',\n",
    "       'Father occupation', 'Mother occupation', 'Below poverty',\n",
    "       'Use calculator', 'Use computer', 'Use Internet', 'Use dictionary',\n",
    "       'Read other books', '# Books', 'Distance', 'Computer use',\n",
    "       'Library use', 'Like school', 'Subjects', 'Give Lang HW',\n",
    "       'Give Math HW', 'Give Scie HW', 'Give SoSc HW', 'Correct Lang HW',\n",
    "       'Correct Math HW', 'Correct Scie HW', 'Correct SocS HW',\n",
    "       'Help in Study', 'Private tuition', 'English is difficult',\n",
    "       'Read English', 'Dictionary to learn', 'Answer English WB',\n",
    "       'Answer English aloud', 'Maths is difficult', 'Solve Maths',\n",
    "       'Solve Maths in groups', 'Draw geometry', 'Explain answers',\n",
    "       'SocSci is difficult', 'Historical excursions', 'Participate in SocSci',\n",
    "       'Small groups in SocSci', 'Express SocSci views',\n",
    "       'Science is difficult', 'Observe experiments', 'Conduct experiments',\n",
    "       'Solve science problems', 'Express science views', 'Watch TV',\n",
    "       'Read magazine', 'Read a book', 'Play games', 'Help in household']\n",
    "performance = ['Maths %', 'Reading %', 'Science %', 'Social %']\n",
    "\n",
    "# unique values in each category\n",
    "for c in category:\n",
    "    print (c,\":\",marks[c].unique())"
   ]
  },
  {
   "cell_type": "markdown",
   "metadata": {},
   "source": [
    "### What influences students performance the most?\n",
    "\n",
    "We defined a performance metric as 'performance' = average of ('Maths %', 'Reading %', 'Science %', 'Social %'). A feature selection is performed based on `SelectKBest` to evaluvate the relative importance in predicting performance. The top features were found for each subject as well as for average of all.\n",
    "\n",
    "|Parameter|Best Feature |\n",
    "| --- |:--- |\n",
    "|Overall Performance|'Father edu'|\n",
    "|Maths|'Help in household'|\n",
    "|Reading|'Mother edu'|\n",
    "|Science|'Father edu'|\n",
    "|Social|'Help in household'|\n",
    "\n",
    "This concludeds that the education of parents were the most decisive predictor in deciding a student's  performance. Among top features, 'Father edu' has distinctly higher scores for performance, almost **33%** higher than the second feature indicating a very high relevance."
   ]
  },
  {
   "cell_type": "code",
   "execution_count": null,
   "metadata": {},
   "outputs": [],
   "source": [
    "# adding performance column as the average of all scores\n",
    "# np.nanmean is used across the horizontal axis to avoid \"NaN\" values to calculate mean.\n",
    "marks[\"performance\"]=marks[performance].apply(np.nanmean, axis=1)\n",
    "marks[\"performance\"].describe()"
   ]
  },
  {
   "cell_type": "code",
   "execution_count": null,
   "metadata": {},
   "outputs": [],
   "source": [
    "# no. of null values and corresponding columns\n",
    "pd.isnull(marks).sum()[pd.isnull(marks).sum()!=0]"
   ]
  },
  {
   "cell_type": "code",
   "execution_count": null,
   "metadata": {
    "scrolled": true
   },
   "outputs": [],
   "source": [
    "# Plotting performance based on each category value in the dataframe\n",
    "\n",
    "for c in category:\n",
    "    marks.boxplot(column=\"performance\", by=c,figsize=(8, 4))\n",
    "    print (labels[labels[\"Column\"]==c])\n",
    "    plt.suptitle(\"\")\n",
    "    plt.show()"
   ]
  },
  {
   "cell_type": "code",
   "execution_count": null,
   "metadata": {
    "collapsed": true,
    "scrolled": true
   },
   "outputs": [],
   "source": [
    "def clean_data(marks, y_col_name=\"performance\"):\n",
    "    # Creating traning set X and target y\n",
    "    from sklearn.preprocessing import LabelEncoder\n",
    "\n",
    "    # Remove all rows with performance is undefined i.e. \"NaN\" \n",
    "    marks_nona = marks.dropna(subset=[y_col_name])\n",
    "\n",
    "    # Cloning marks to make a training set X\n",
    "    X = marks_nona[category].copy(deep=True)\n",
    "\n",
    "    # string encoded columns are converted to np array to create training set x\n",
    "    encoded_columns = [\"State\",\"Use computer\", \"Subjects\"]\n",
    "    le_state = LabelEncoder()\n",
    "    le_subject = LabelEncoder()\n",
    "    le_use_comp = LabelEncoder()\n",
    "    X[\"State\"] = le_state.fit_transform(X[\"State\"])\n",
    "    X[\"Subjects\"] = le_subject.fit_transform(X[\"Subjects\"])\n",
    "    X[\"Use computer\"] = le_use_comp.fit_transform(X[\"Use computer\"].fillna(value=\"0\"))\n",
    "\n",
    "    print(\"Shape of X\\t:\",X.shape)\n",
    "\n",
    "    # target variable y \n",
    "    y = marks_nona[y_col_name]\n",
    "    print (\"Shape of y\\t:\",y.shape)\n",
    "    return X, y"
   ]
  },
  {
   "cell_type": "code",
   "execution_count": null,
   "metadata": {
    "collapsed": true,
    "scrolled": false
   },
   "outputs": [],
   "source": [
    "def best_features(X,y):\n",
    "    # Pipeline is defined for feature selection\n",
    "    from sklearn.feature_selection import SelectKBest,f_regression,mutual_info_regression\n",
    "    from sklearn.pipeline import Pipeline\n",
    "    from sklearn.preprocessing import StandardScaler\n",
    "\n",
    "    pipe = Pipeline(steps = [('scaler', StandardScaler()),\\\n",
    "                                ('selK', SelectKBest(k=\"all\",score_func=f_regression))])\n",
    "    pipe.fit(X.astype(float).values,y.astype(float).values)\n",
    "\n",
    "    # score of top 10 features is sorted in descending order\n",
    "    k_scores = pipe.named_steps[\"selK\"].scores_\n",
    "#     k_scores = k_scores/sum(k_scores)\n",
    "    scores_tuple = zip(X.columns,k_scores)\n",
    "    sorted_scores = sorted(scores_tuple,key=lambda score:score[1], reverse=True)\n",
    "    print (\"Best 5 Features:\\n\",sorted_scores[:5])\n",
    "    \n",
    "    # Plotting the best features\n",
    "    fig=plt.figure(figsize=(12,5))\n",
    "    plt.bar(np.arange(len(k_scores)),k_scores,label = X.columns)\n",
    "    plt.axhline(y=max(k_scores)*0.6,color='b',linewidth=.5)\n",
    "    plt.xticks(np.arange(len(k_scores)),X.columns,rotation=\"vertical\")\n",
    "    plt.ylabel(\"K-Scores\")\n",
    "    plt.show()\n",
    "    \n",
    "    return sorted_scores\n",
    "\n",
    "def tuple_to_dict(scores_tuple):\n",
    "    \"\"\"\n",
    "    converts an array of tuple (key,value) to a dictionary {key:value}\n",
    "    \"\"\"\n",
    "    i = 0;\n",
    "    my_dict = {}\n",
    "    while i<len(scores_tuple):\n",
    "        key, value = scores_tuple[i]\n",
    "        my_dict.update({key : value})\n",
    "        i = i+1\n",
    "    return my_dict\n",
    "    "
   ]
  },
  {
   "cell_type": "code",
   "execution_count": null,
   "metadata": {
    "scrolled": true
   },
   "outputs": [],
   "source": [
    "target = [\"performance\",\"Maths %\",\"Reading %\",\"Science %\",\"Social %\"]\n",
    "final_stat = {}\n",
    "\n",
    "for t in target:\n",
    "    print(\"======\\tTarget Variable\\t:\",t,\"======\")\n",
    "    X, y = clean_data(marks,y_col_name=t)\n",
    "    sorted_scores = best_features(X,y)\n",
    "    final_stat.update({t : tuple_to_dict(sorted_scores)})\n",
    "    best_f = sorted_scores[0][0]\n",
    "    \n",
    "    # plotting\n",
    "    marks.boxplot(column=t, by=best_f,figsize=(8,5))\n",
    "    plt.title(t)\n",
    "    plt.tight_layout()\n",
    "    plt.suptitle(\"\")\n",
    "    print (labels[labels[\"Column\"]==best_f])\n",
    "    plt.show()"
   ]
  },
  {
   "cell_type": "code",
   "execution_count": null,
   "metadata": {
    "scrolled": false
   },
   "outputs": [],
   "source": [
    "# K-scores are normalized by maximum score (along each row) to show the strongest predictor for each row\n",
    "import seaborn as sns\n",
    "s = pd.DataFrame.from_dict(final_stat, orient='index')\n",
    "final = s.divide(s.max(axis=1),axis = 0)\n",
    "\n",
    "# plotting heat map \n",
    "plt.figure(figsize=(15,2))\n",
    "f = sns.heatmap(final, linewidths = 1,square= False, cbar= False, vmin=0.2)\n",
    "plt.suptitle(\"Coloring based on K-Score (Darker color indicates stonger influence)\")\n",
    "plt.show()"
   ]
  },
  {
   "cell_type": "markdown",
   "metadata": {},
   "source": [
    "### How do boys and girls perform across states?\n",
    "\n",
    "Across most states Girls tend to have a higher median performance than boys.\n",
    "\n",
    "Some states with notable exception to this rule are Jharkand (JH) and Bihar (BH). Since these state have high gender inequality, this trend could be due to lack of access/support to educational resources to girls compared to boys. There could be other intrinsic reasons as it needs additional supporting data.\n",
    "\n",
    "Of the states where girls perform better, Kerala and Delhi stands out. Both states showed that median performance of girls is almost 4% higher than boys."
   ]
  },
  {
   "cell_type": "code",
   "execution_count": null,
   "metadata": {},
   "outputs": [],
   "source": [
    "# Eliminating Gender not equal to 1 or 2\n",
    "marks_gender = marks.dropna(subset=[\"performance\"])\n",
    "marks_gender =marks_gender[marks_gender[\"Gender\"]!=0]\n",
    "marks_gender.boxplot(column=\"performance\", by=[\"State\",\"Gender\"], figsize=(12, 3))\n",
    "plt.xticks(rotation=\"vertical\")\n",
    "plt.show()"
   ]
  },
  {
   "cell_type": "code",
   "execution_count": null,
   "metadata": {
    "scrolled": true
   },
   "outputs": [],
   "source": [
    "# Aggregating median performance based on \"State\" and \"Gender\"\n",
    "G_perfomance = marks_gender.groupby([\"State\",\"Gender\"]).median()[\"performance\"].reset_index()\n",
    "\n",
    "# pivoting the dataframe to include columns \"Boy\" and \"Girl\" and renaming them\n",
    "G_perfomance = G_perfomance.pivot(index='State', columns='Gender', values='performance')\n",
    "G_perfomance.columns = [\"Boy\",\"Girl\"]\n",
    "\n",
    "# Adding column \"diff\" with the differenc ein median performance of boys and girls\n",
    "G_perfomance[\"diff\"]=G_perfomance[\"Boy\"]-G_perfomance[\"Girl\"]\n",
    "\n",
    "G_perfomance.head()"
   ]
  },
  {
   "cell_type": "code",
   "execution_count": null,
   "metadata": {},
   "outputs": [],
   "source": [
    "# Aggregating count of Gender based on \"State\" and \"Gender\"\n",
    "G_count = marks_gender.groupby([\"State\",\"Gender\"]).count()[[\"STUID\"]].reset_index()\n",
    "\n",
    "# pivoting the dataframe to include columns \"Boy\" and \"Girl\" and renaming them\n",
    "G_count = G_count.pivot(index='State', columns='Gender', values='STUID')\n",
    "G_count.columns = [\"Boy\",\"Girl\"]\n",
    "G_count[\"ratio\"] = G_count[\"Boy\"]/G_count[\"Boy\"]\n",
    "G_count.head()"
   ]
  },
  {
   "cell_type": "code",
   "execution_count": null,
   "metadata": {
    "scrolled": false
   },
   "outputs": [],
   "source": [
    "import matplotlib.colors as colors\n",
    "from matplotlib.cm import bwr as cmap\n",
    "import matplotlib.patches as mpatches\n",
    "\n",
    "plt.figure(figsize=(12,5))\n",
    "\n",
    "# setting colors. Maps the max and min values in \"diff\" to a color map bwr\n",
    "c_normal = colors.PowerNorm(.1,vmin=min(G_perfomance[\"diff\"]), vmax=max(G_perfomance[\"diff\"]))\n",
    "_COLORS = cmap(c_normal(G_perfomance[\"diff\"]))\n",
    "\n",
    "plt.bar(np.arange(len(G_perfomance[\"diff\"])), \n",
    "        height = G_perfomance[\"diff\"], width = 0.75, align = \"center\",\\\n",
    "        color=_COLORS)\n",
    "plt.xticks(np.arange(len(G_perfomance.index)),list(G_perfomance.index))\n",
    "plt.axhline(0, color='k', linewidth = 0.5)\n",
    "plt.xlabel(\"State\")\n",
    "plt.ylabel(\"Median Performance Difference\\n(Boys - Girls)\")\n",
    "\n",
    "# creating legend patches\n",
    "red_patch = mpatches.Patch(color='red', label='Boys Perform Better')\n",
    "blue_patch = mpatches.Patch(color='blue', label='Girls Perform Better')\n",
    "plt.legend(handles=[red_patch, blue_patch], loc=4)\n",
    "\n",
    "plt.show()"
   ]
  },
  {
   "cell_type": "code",
   "execution_count": null,
   "metadata": {
    "scrolled": false
   },
   "outputs": [],
   "source": [
    "fig = plt.figure(figsize = (5,14),dpi=7)\n",
    "\n",
    "ax = fig.add_subplot(111)\n",
    "ax2 = ax.twiny()\n",
    "\n",
    "# bar plots on first axis ax\n",
    "ax.barh(np.arange(len(G_perfomance[\"Boy\"])),\\\n",
    "         width = G_perfomance[\"Boy\"],height = 0.1, color=\"k\",\\\n",
    "        align = \"center\", alpha =0.25, linewidth = 0)\n",
    "ax.barh(np.arange(len(G_perfomance[\"Girl\"])),\\\n",
    "         width = -G_perfomance[\"Girl\"],height = 0.1, color=\"k\",\\\n",
    "        align = \"center\", alpha =0.25, linewidth = 0)\n",
    "\n",
    "# scatter plots on first axis ax with marker size mapped on to sampe size\n",
    "ax.scatter(x = G_perfomance[\"Boy\"],\\\n",
    "            y = np.arange(len(G_perfomance[\"diff\"])),\\\n",
    "            s = G_count[\"Boy\"]*0.1,\\\n",
    "            color = \"k\", alpha =0.5)\n",
    "ax.scatter(x = -G_perfomance[\"Girl\"],\\\n",
    "            y = np.arange(len(G_perfomance[\"diff\"])),\\\n",
    "            s = G_count[\"Girl\"]*0.1,\\\n",
    "            color = \"k\", alpha =0.5)\n",
    "\n",
    "\n",
    "# First x-axis\n",
    "ax.set_xlim(-60, 60)\n",
    "ax.set_xticklabels([str(abs(x)) for x in ax.get_xticks()]) # changing the x ticks to remove \"-\"\n",
    "ax.set_xlabel(\"Median performance\")\n",
    "\n",
    "for a in [100,500]:\n",
    "    ax.scatter([],[],c='k', alpha=0.5, s=a,label = \"{0}\".format(a*10))\n",
    "\n",
    "# Second x-axis\n",
    "ax2.barh(np.arange(len(G_perfomance[\"diff\"])), \n",
    "        width = G_perfomance[\"diff\"], height = 0.75, align = \"center\",\\\n",
    "        color=_COLORS)\n",
    "\n",
    "ax2.set_xlim(-10, 10)\n",
    "ax2.grid(False)\n",
    "ax2.set_xlabel(\"Median performance difference (Boys - Girls)\")\n",
    "\n",
    "# y-axis\n",
    "ax.set_ylim(-1, len(G_perfomance.index)+2)\n",
    "plt.yticks(np.arange(len(G_perfomance.index)),list(G_perfomance.index))\n",
    "plt.axvline(x= 0, color='k', linewidth = 0.75, ymax = 0.94)\n",
    "\n",
    "# legend\n",
    "red_patch = mpatches.Patch(color='red', label='Boys Perform Better')\n",
    "blue_patch = mpatches.Patch(color='blue', label='Girls Perform Better')\n",
    "plt.legend(handles=[blue_patch, red_patch], loc=2, ncol =1, mode = \"expand\")\n",
    "ax.legend(loc=1,ncol=2)\n",
    "\n",
    "\n",
    "# annotation patch\n",
    "tboy = ax.text(50, -2.2, \"Boys\", ha=\"center\", va=\"center\", rotation=0,\n",
    "            size=10,color = \"w\",\n",
    "            bbox=dict(boxstyle=\"rarrow,pad=0.3\", fc=\"grey\", ec=\"b\", lw=0))\n",
    "tgirl = ax.text(-50, -2.2, \"Girls\", ha=\"center\", va=\"center\", rotation=0,\n",
    "            size=10,color = \"w\",\n",
    "            bbox=dict(boxstyle=\"larrow,pad=0.3\", fc=\"grey\", ec=\"b\", lw=0))\n",
    "\n",
    "plt.show()"
   ]
  },
  {
   "cell_type": "code",
   "execution_count": null,
   "metadata": {
    "scrolled": true
   },
   "outputs": [],
   "source": [
    "# Sorted list of States with higher performance for Boys\n",
    "G_perfomance[G_perfomance[\"diff\"]>0].sort_values(\"diff\", ascending=False)"
   ]
  },
  {
   "cell_type": "code",
   "execution_count": null,
   "metadata": {
    "scrolled": true
   },
   "outputs": [],
   "source": [
    "# Sorted list of States with higher performance for Girls\n",
    "G_perfomance[G_perfomance[\"diff\"]<0].sort_values(\"diff\", ascending=True)"
   ]
  },
  {
   "cell_type": "markdown",
   "metadata": {},
   "source": [
    "### Do students from South Indian states really excel at Math and Science?\n",
    "\n",
    "In order to do the analysis, Here we considered southern states as : \"Andhra Pradesh\", \"Kerala\", \"Karnataka\" and \"Tamil Nadu\". Meanwhile other states are referred to \"the rest of the country\". The performance score for 'Science and Math' is defined as the mean value of both 'Science' and 'Math'. \n",
    "\n",
    "We found that central tendendencies of `Southern States` to be slight lower than the rest of the country. But it should be noted that the number of samples in the `Southern States` is far less. Also, it should be understood that the enrollment rate of southern states is usually higher than rest of country which could be driving down the median values.\n",
    "\n",
    "To identify if all southern states follow this pattern, we split the data into corresponding southern states. We found that \"Kerala\" as a notable exception to the trend of southern states. \"Kerala\" tends to have higher median score than other southern states, rest of the country and the overall median of country. Another exception is the distribution of marks from \"Tamil Nadu\" with longer tails. \"Tamil Nadu\" followed the trend of the rest of the country with longer tails at highest end but has lower median score than all others."
   ]
  },
  {
   "cell_type": "code",
   "execution_count": null,
   "metadata": {
    "collapsed": true
   },
   "outputs": [],
   "source": [
    "marks['math_sci'] = marks[['Maths %','Science %']].apply(np.nanmean,axis=1)"
   ]
  },
  {
   "cell_type": "code",
   "execution_count": null,
   "metadata": {},
   "outputs": [],
   "source": [
    "# Defining a dataframe \"south\" with columns = [state,math_science]. \n",
    "south = marks[['State','Maths %','Science %','math_sci']].dropna(subset=['Maths %','Science %'])\n",
    "print (south.isnull().sum())\n",
    "print(south.columns)"
   ]
  },
  {
   "cell_type": "code",
   "execution_count": null,
   "metadata": {},
   "outputs": [],
   "source": [
    "# separating southern states from rest of the country\n",
    "STATES = list(south[\"State\"].unique())\n",
    "SOUTH_STATES = [\"KL\", \"AP\",\"TN\",\"KA\"]\n",
    "REST = [S for S in STATES if S not in SOUTH_STATES]\n",
    "south[\"is_south\"] = south[\"State\"].isin(SOUTH_STATES)\n",
    "\n",
    "# function to add a new column \"south_vs_rest\"\n",
    "def add_col_south_vs_rest(south,SOUTH_STATES):\n",
    "    \"\"\"\n",
    "    Returns a new lst with south[\"state\"] as \n",
    "    the value if the state is in SOUTH_STATES, \n",
    "    else with the value \"Rest\"\n",
    "    \"\"\"\n",
    "    lst = []\n",
    "    for index in range(south.shape[0]):\n",
    "        state = south.iloc[index][\"State\"]\n",
    "        if state in SOUTH_STATES:\n",
    "            lst.append(state)\n",
    "        else:\n",
    "            lst.append(\"Rest\")\n",
    "    return lst\n",
    "south[\"south_vs_rest\"] = add_col_south_vs_rest(south,SOUTH_STATES)\n",
    "south.tail(2)"
   ]
  },
  {
   "cell_type": "code",
   "execution_count": null,
   "metadata": {
    "scrolled": true
   },
   "outputs": [],
   "source": [
    "print (south.describe())\n",
    "south.groupby(by = \"is_south\").describe()"
   ]
  },
  {
   "cell_type": "code",
   "execution_count": null,
   "metadata": {
    "scrolled": true
   },
   "outputs": [],
   "source": [
    "for factor in [\"math_sci\",\"Maths %\",\"Science %\"]:\n",
    "    fig = south.boxplot(column = factor, by =\"is_south\")\n",
    "    plt.axhline(south[factor].median(), color='k', linewidth = 0.5, linestyle =\"--\",\\\n",
    "                label=\"Median Score of Country\")\n",
    "    plt.ylabel(\" %\")\n",
    "    fig.set_xticklabels([\"rest of the country\",\"southern states\"])\n",
    "    plt.suptitle(\"\")\n",
    "    plt.xlabel(\"\")\n",
    "    plt.legend()\n",
    "    plt.show()"
   ]
  },
  {
   "cell_type": "code",
   "execution_count": null,
   "metadata": {
    "scrolled": true
   },
   "outputs": [],
   "source": [
    "plt.figure(1)\n",
    "sns.countplot(x=\"is_south\", data=south)\n",
    "plt.figure(2)\n",
    "sns.countplot(x=\"south_vs_rest\", data=south)\n",
    "plt.show()"
   ]
  },
  {
   "cell_type": "code",
   "execution_count": null,
   "metadata": {},
   "outputs": [],
   "source": [
    "# sns.stripplot(x=\"is_south\", y=\"math_sci\",data=south, jitter=True, alpha=0.2)\n",
    "plt.figure(figsize = (10,6))\n",
    "f = sns.violinplot(x=\"is_south\", y=\"math_sci\",data=south, fliersize=0, width = .3, notch =True, linewidth =1)\n",
    "plt.axhline(south[\"math_sci\"].median(), color='r', linewidth = 1, linestyle =\"--\",\\\n",
    "                label=\"Median Score of Country\")\n",
    "f.set_xticklabels([\"rest of the country\",\"southern states\"])\n",
    "\n",
    "# plotting the count data\n",
    "plt.scatter(x = south.groupby(\"is_south\").count()[\"State\"].index,\\\n",
    "            y = [-10.0,-10.0],\\\n",
    "            s = south.groupby(\"is_south\").count()[\"State\"].values/25,\\\n",
    "            c=\"k\", linewidth=1,alpha =0.4, label = \"Sample size\")\n",
    "\n",
    "plt.suptitle(\"Math and Science Score\")\n",
    "plt.xlabel(\"\")\n",
    "plt.ylabel(\"%\")\n",
    "plt.legend(loc =8)\n",
    "plt.show()"
   ]
  },
  {
   "cell_type": "code",
   "execution_count": null,
   "metadata": {
    "scrolled": true
   },
   "outputs": [],
   "source": [
    "# spltting each southern state to compare with the rest of the country\n",
    "for factor in [\"math_sci\",\"Maths %\",\"Science %\"]:\n",
    "    fig = south.boxplot(column = factor, by =\"south_vs_rest\")\n",
    "    plt.axhline(south[factor].median(), color='k', linewidth = 0.5, linestyle =\"--\",\\\n",
    "                label=\"Median Score of Country\")\n",
    "    plt.ylabel(\" %\")\n",
    "    plt.suptitle(\"\")\n",
    "    plt.xlabel(\"\")\n",
    "    plt.legend()\n",
    "    plt.show()"
   ]
  },
  {
   "cell_type": "code",
   "execution_count": null,
   "metadata": {
    "collapsed": true
   },
   "outputs": [],
   "source": [
    "count = south.groupby(\"south_vs_rest\").count()[\"State\"].reindex(index=[\"Rest\",\"AP\",\"KA\",\"KL\",\"TN\"])"
   ]
  },
  {
   "cell_type": "code",
   "execution_count": null,
   "metadata": {},
   "outputs": [],
   "source": [
    "# Math and science score for each of the southern state\n",
    "plt.figure(figsize = (10,6))\n",
    "\n",
    "f = sns.violinplot(x=\"south_vs_rest\", y=\"math_sci\",data=south,\\\n",
    "                   fliersize=0, width = .3, notch =True, linewidth =1,\\\n",
    "                  order=[\"Rest\",\"AP\",\"KA\",\"KL\",\"TN\"])\n",
    "plt.axhline(south[\"math_sci\"].median(), color='r', linewidth = 1, linestyle =\"--\",\\\n",
    "                label=\"Median Score of Country\")\n",
    "f.set_xticklabels([\"Rest of the\\ncountry\",\"Andhra\\nPradesh\",\"Karnataka\",\"Kerala\", \"Tamil\\nNadu\"])\n",
    "\n",
    "plt.scatter(x =[0,1,2,3,4], y=[-10,-10,-10,-10,-10],s = count/15,\\\n",
    "            label =\"Sample size\", alpha =0.3,color =\"k\",linewidth=1,\\\n",
    "            linestyle =\"solid\")\n",
    "\n",
    "plt.suptitle(\"Math and Science Score\")\n",
    "plt.xlabel(\"\")\n",
    "plt.ylabel(\"%\")\n",
    "plt.legend()\n",
    "# plt.twinx()\n",
    "# sns.countplot(x=\"south_vs_rest\", data=south, width = 0.2)\n",
    "plt.show()"
   ]
  }
 ],
 "metadata": {
  "kernelspec": {
   "display_name": "Python [conda root]",
   "language": "python",
   "name": "conda-root-py"
  },
  "language_info": {
   "codemirror_mode": {
    "name": "ipython",
    "version": 3
   },
   "file_extension": ".py",
   "mimetype": "text/x-python",
   "name": "python",
   "nbconvert_exporter": "python",
   "pygments_lexer": "ipython3",
   "version": "3.5.3"
  }
 },
 "nbformat": 4,
 "nbformat_minor": 2
}
